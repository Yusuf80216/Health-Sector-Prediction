{
  "cells": [
    {
      "cell_type": "markdown",
      "metadata": {
        "id": "view-in-github",
        "colab_type": "text"
      },
      "source": [
        "<a href=\"https://colab.research.google.com/github/Yusuf80216/my_notebooks/blob/main/doceree.ipynb\" target=\"_parent\"><img src=\"https://colab.research.google.com/assets/colab-badge.svg\" alt=\"Open In Colab\"/></a>"
      ]
    },
    {
      "cell_type": "code",
      "source": [
        "import numpy as np\n",
        "import pandas as pd\n",
        "import matplotlib.pyplot as plt"
      ],
      "metadata": {
        "id": "Az_cZ-oEWOge"
      },
      "execution_count": 263,
      "outputs": []
    },
    {
      "cell_type": "markdown",
      "source": [
        "### Importing Datasets"
      ],
      "metadata": {
        "id": "3h1vBoXAWHA7"
      }
    },
    {
      "cell_type": "code",
      "execution_count": 264,
      "metadata": {
        "colab": {
          "base_uri": "https://localhost:8080/"
        },
        "id": "japJ1al8VRzm",
        "outputId": "20c44fa6-5836-475d-d915-0fb056bcb763"
      },
      "outputs": [
        {
          "output_type": "stream",
          "name": "stdout",
          "text": [
            "Downloading...\n",
            "From: https://drive.google.com/uc?id=1qwdOlr6Qtnjej_K2xKNJ6HfC7IjXxXGn\n",
            "To: /content/Doceree-HCP_Train.csv\n",
            "100% 83.9M/83.9M [00:01<00:00, 70.8MB/s]\n"
          ]
        }
      ],
      "source": [
        "# Training Data\n",
        "!gdown 1qwdOlr6Qtnjej_K2xKNJ6HfC7IjXxXGn"
      ]
    },
    {
      "cell_type": "code",
      "execution_count": 265,
      "metadata": {
        "colab": {
          "base_uri": "https://localhost:8080/"
        },
        "id": "9nAXjCWWVRzp",
        "outputId": "15eb2606-e457-4042-a1d2-9ccc0fb4b49b"
      },
      "outputs": [
        {
          "output_type": "stream",
          "name": "stdout",
          "text": [
            "Downloading...\n",
            "From: https://drive.google.com/uc?id=1F0pMFQ4nvwz6QIf04Flc5gQYiXq2SYh-\n",
            "To: /content/Doceree-HCP-Test.csv\n",
            "100% 20.9M/20.9M [00:00<00:00, 69.3MB/s]\n"
          ]
        }
      ],
      "source": [
        "# Training Data\n",
        "!gdown 1F0pMFQ4nvwz6QIf04Flc5gQYiXq2SYh-"
      ]
    },
    {
      "cell_type": "code",
      "source": [
        "docereeTrain = pd.read_csv('Doceree-HCP_Train.csv', encoding = 'ISO-8859-1')\n",
        "docereeTest = pd.read_csv('Doceree-HCP-Test.csv', encoding = 'ISO-8859-1')"
      ],
      "metadata": {
        "id": "taEodkUCWFqf"
      },
      "execution_count": 266,
      "outputs": []
    },
    {
      "cell_type": "markdown",
      "source": [
        "### Data Pre-processing & EDA"
      ],
      "metadata": {
        "id": "HsqkWindWNam"
      }
    },
    {
      "cell_type": "code",
      "source": [
        "docereeTrain.sample(3)"
      ],
      "metadata": {
        "colab": {
          "base_uri": "https://localhost:8080/",
          "height": 187
        },
        "id": "MMPI8mz0W1VS",
        "outputId": "e5a88787-7ad0-43d0-c0db-44cb728a85c1"
      },
      "execution_count": 33,
      "outputs": [
        {
          "output_type": "execute_result",
          "data": {
            "text/plain": [
              "          ID  DEVICETYPE  PLATFORM_ID  BIDREQUESTIP  USERPLATFORMUID  \\\n",
              "61571  62572           1            2           897            37920   \n",
              "86569  87570           2            2         26907             2558   \n",
              "90317  91318           0            2         19661            42196   \n",
              "\n",
              "       USERCITY  USERZIPCODE  USERAGENT  PLATFORMTYPE   URL  KEYWORDS  \\\n",
              "61571      2910      32801.0       3836             3   686       531   \n",
              "86569      2807      14120.0       1851             3  4829       674   \n",
              "90317       947      11729.0       2613             3  2859       971   \n",
              "\n",
              "       TAXONOMY  IS_HCP  \n",
              "61571       202     0.0  \n",
              "86569       146     1.0  \n",
              "90317       202     0.0  "
            ],
            "text/html": [
              "\n",
              "  <div id=\"df-6ee021cb-0d89-425e-9c0c-971ecbbddb1c\">\n",
              "    <div class=\"colab-df-container\">\n",
              "      <div>\n",
              "<style scoped>\n",
              "    .dataframe tbody tr th:only-of-type {\n",
              "        vertical-align: middle;\n",
              "    }\n",
              "\n",
              "    .dataframe tbody tr th {\n",
              "        vertical-align: top;\n",
              "    }\n",
              "\n",
              "    .dataframe thead th {\n",
              "        text-align: right;\n",
              "    }\n",
              "</style>\n",
              "<table border=\"1\" class=\"dataframe\">\n",
              "  <thead>\n",
              "    <tr style=\"text-align: right;\">\n",
              "      <th></th>\n",
              "      <th>ID</th>\n",
              "      <th>DEVICETYPE</th>\n",
              "      <th>PLATFORM_ID</th>\n",
              "      <th>BIDREQUESTIP</th>\n",
              "      <th>USERPLATFORMUID</th>\n",
              "      <th>USERCITY</th>\n",
              "      <th>USERZIPCODE</th>\n",
              "      <th>USERAGENT</th>\n",
              "      <th>PLATFORMTYPE</th>\n",
              "      <th>URL</th>\n",
              "      <th>KEYWORDS</th>\n",
              "      <th>TAXONOMY</th>\n",
              "      <th>IS_HCP</th>\n",
              "    </tr>\n",
              "  </thead>\n",
              "  <tbody>\n",
              "    <tr>\n",
              "      <th>61571</th>\n",
              "      <td>62572</td>\n",
              "      <td>1</td>\n",
              "      <td>2</td>\n",
              "      <td>897</td>\n",
              "      <td>37920</td>\n",
              "      <td>2910</td>\n",
              "      <td>32801.0</td>\n",
              "      <td>3836</td>\n",
              "      <td>3</td>\n",
              "      <td>686</td>\n",
              "      <td>531</td>\n",
              "      <td>202</td>\n",
              "      <td>0.0</td>\n",
              "    </tr>\n",
              "    <tr>\n",
              "      <th>86569</th>\n",
              "      <td>87570</td>\n",
              "      <td>2</td>\n",
              "      <td>2</td>\n",
              "      <td>26907</td>\n",
              "      <td>2558</td>\n",
              "      <td>2807</td>\n",
              "      <td>14120.0</td>\n",
              "      <td>1851</td>\n",
              "      <td>3</td>\n",
              "      <td>4829</td>\n",
              "      <td>674</td>\n",
              "      <td>146</td>\n",
              "      <td>1.0</td>\n",
              "    </tr>\n",
              "    <tr>\n",
              "      <th>90317</th>\n",
              "      <td>91318</td>\n",
              "      <td>0</td>\n",
              "      <td>2</td>\n",
              "      <td>19661</td>\n",
              "      <td>42196</td>\n",
              "      <td>947</td>\n",
              "      <td>11729.0</td>\n",
              "      <td>2613</td>\n",
              "      <td>3</td>\n",
              "      <td>2859</td>\n",
              "      <td>971</td>\n",
              "      <td>202</td>\n",
              "      <td>0.0</td>\n",
              "    </tr>\n",
              "  </tbody>\n",
              "</table>\n",
              "</div>\n",
              "      <button class=\"colab-df-convert\" onclick=\"convertToInteractive('df-6ee021cb-0d89-425e-9c0c-971ecbbddb1c')\"\n",
              "              title=\"Convert this dataframe to an interactive table.\"\n",
              "              style=\"display:none;\">\n",
              "        \n",
              "  <svg xmlns=\"http://www.w3.org/2000/svg\" height=\"24px\"viewBox=\"0 0 24 24\"\n",
              "       width=\"24px\">\n",
              "    <path d=\"M0 0h24v24H0V0z\" fill=\"none\"/>\n",
              "    <path d=\"M18.56 5.44l.94 2.06.94-2.06 2.06-.94-2.06-.94-.94-2.06-.94 2.06-2.06.94zm-11 1L8.5 8.5l.94-2.06 2.06-.94-2.06-.94L8.5 2.5l-.94 2.06-2.06.94zm10 10l.94 2.06.94-2.06 2.06-.94-2.06-.94-.94-2.06-.94 2.06-2.06.94z\"/><path d=\"M17.41 7.96l-1.37-1.37c-.4-.4-.92-.59-1.43-.59-.52 0-1.04.2-1.43.59L10.3 9.45l-7.72 7.72c-.78.78-.78 2.05 0 2.83L4 21.41c.39.39.9.59 1.41.59.51 0 1.02-.2 1.41-.59l7.78-7.78 2.81-2.81c.8-.78.8-2.07 0-2.86zM5.41 20L4 18.59l7.72-7.72 1.47 1.35L5.41 20z\"/>\n",
              "  </svg>\n",
              "      </button>\n",
              "      \n",
              "  <style>\n",
              "    .colab-df-container {\n",
              "      display:flex;\n",
              "      flex-wrap:wrap;\n",
              "      gap: 12px;\n",
              "    }\n",
              "\n",
              "    .colab-df-convert {\n",
              "      background-color: #E8F0FE;\n",
              "      border: none;\n",
              "      border-radius: 50%;\n",
              "      cursor: pointer;\n",
              "      display: none;\n",
              "      fill: #1967D2;\n",
              "      height: 32px;\n",
              "      padding: 0 0 0 0;\n",
              "      width: 32px;\n",
              "    }\n",
              "\n",
              "    .colab-df-convert:hover {\n",
              "      background-color: #E2EBFA;\n",
              "      box-shadow: 0px 1px 2px rgba(60, 64, 67, 0.3), 0px 1px 3px 1px rgba(60, 64, 67, 0.15);\n",
              "      fill: #174EA6;\n",
              "    }\n",
              "\n",
              "    [theme=dark] .colab-df-convert {\n",
              "      background-color: #3B4455;\n",
              "      fill: #D2E3FC;\n",
              "    }\n",
              "\n",
              "    [theme=dark] .colab-df-convert:hover {\n",
              "      background-color: #434B5C;\n",
              "      box-shadow: 0px 1px 3px 1px rgba(0, 0, 0, 0.15);\n",
              "      filter: drop-shadow(0px 1px 2px rgba(0, 0, 0, 0.3));\n",
              "      fill: #FFFFFF;\n",
              "    }\n",
              "  </style>\n",
              "\n",
              "      <script>\n",
              "        const buttonEl =\n",
              "          document.querySelector('#df-6ee021cb-0d89-425e-9c0c-971ecbbddb1c button.colab-df-convert');\n",
              "        buttonEl.style.display =\n",
              "          google.colab.kernel.accessAllowed ? 'block' : 'none';\n",
              "\n",
              "        async function convertToInteractive(key) {\n",
              "          const element = document.querySelector('#df-6ee021cb-0d89-425e-9c0c-971ecbbddb1c');\n",
              "          const dataTable =\n",
              "            await google.colab.kernel.invokeFunction('convertToInteractive',\n",
              "                                                     [key], {});\n",
              "          if (!dataTable) return;\n",
              "\n",
              "          const docLinkHtml = 'Like what you see? Visit the ' +\n",
              "            '<a target=\"_blank\" href=https://colab.research.google.com/notebooks/data_table.ipynb>data table notebook</a>'\n",
              "            + ' to learn more about interactive tables.';\n",
              "          element.innerHTML = '';\n",
              "          dataTable['output_type'] = 'display_data';\n",
              "          await google.colab.output.renderOutput(dataTable, element);\n",
              "          const docLink = document.createElement('div');\n",
              "          docLink.innerHTML = docLinkHtml;\n",
              "          element.appendChild(docLink);\n",
              "        }\n",
              "      </script>\n",
              "    </div>\n",
              "  </div>\n",
              "  "
            ]
          },
          "metadata": {},
          "execution_count": 33
        }
      ]
    },
    {
      "cell_type": "code",
      "source": [
        "docereeTrain[\"TAXONOMY\"] = docereeTrain[\"TAXONOMY\"].fillna('Unkown')"
      ],
      "metadata": {
        "id": "0hq8diVjjJN0"
      },
      "execution_count": 267,
      "outputs": []
    },
    {
      "cell_type": "code",
      "source": [
        "docereeTrain.info()"
      ],
      "metadata": {
        "colab": {
          "base_uri": "https://localhost:8080/"
        },
        "id": "1fGyEH1fop0w",
        "outputId": "35de2435-6ed2-46c2-e9a7-0a877209a86b"
      },
      "execution_count": 70,
      "outputs": [
        {
          "output_type": "stream",
          "name": "stdout",
          "text": [
            "<class 'pandas.core.frame.DataFrame'>\n",
            "Int64Index: 107566 entries, 0 to 113932\n",
            "Data columns (total 13 columns):\n",
            " #   Column           Non-Null Count   Dtype  \n",
            "---  ------           --------------   -----  \n",
            " 0   ID               107566 non-null  int64  \n",
            " 1   DEVICETYPE       107566 non-null  object \n",
            " 2   PLATFORM_ID      107566 non-null  int64  \n",
            " 3   BIDREQUESTIP     107566 non-null  object \n",
            " 4   USERPLATFORMUID  107566 non-null  object \n",
            " 5   USERCITY         107566 non-null  object \n",
            " 6   USERZIPCODE      107566 non-null  float64\n",
            " 7   USERAGENT        107566 non-null  object \n",
            " 8   PLATFORMTYPE     107566 non-null  object \n",
            " 9   URL              107566 non-null  object \n",
            " 10  KEYWORDS         107566 non-null  object \n",
            " 11  TAXONOMY         107566 non-null  object \n",
            " 12  IS_HCP           107566 non-null  float64\n",
            "dtypes: float64(2), int64(2), object(9)\n",
            "memory usage: 11.5+ MB\n"
          ]
        }
      ]
    },
    {
      "cell_type": "code",
      "source": [
        "docereeTest['ID'] = docereeTest['ID'].astype(int)"
      ],
      "metadata": {
        "id": "sLz41Cugou-F"
      },
      "execution_count": 273,
      "outputs": []
    },
    {
      "cell_type": "code",
      "source": [
        "docereeTest.info()"
      ],
      "metadata": {
        "id": "BHIQ5JKfW5sS",
        "colab": {
          "base_uri": "https://localhost:8080/"
        },
        "outputId": "f7ca5e2f-6dbb-4a33-bf6b-a9e79b5fa77e"
      },
      "execution_count": 11,
      "outputs": [
        {
          "output_type": "stream",
          "name": "stdout",
          "text": [
            "<class 'pandas.core.frame.DataFrame'>\n",
            "Int64Index: 28509 entries, 0 to 28579\n",
            "Data columns (total 11 columns):\n",
            " #   Column           Non-Null Count  Dtype  \n",
            "---  ------           --------------  -----  \n",
            " 0   ID               28509 non-null  object \n",
            " 1   DEVICETYPE       28509 non-null  object \n",
            " 2   PLATFORM_ID      28509 non-null  float64\n",
            " 3   BIDREQUESTIP     28509 non-null  object \n",
            " 4   USERPLATFORMUID  28509 non-null  object \n",
            " 5   USERCITY         28509 non-null  object \n",
            " 6   USERZIPCODE      28509 non-null  float64\n",
            " 7   USERAGENT        28509 non-null  object \n",
            " 8   PLATFORMTYPE     28509 non-null  object \n",
            " 9   URL              28509 non-null  object \n",
            " 10  KEYWORDS         28509 non-null  object \n",
            "dtypes: float64(2), object(9)\n",
            "memory usage: 2.6+ MB\n"
          ]
        }
      ]
    },
    {
      "cell_type": "code",
      "source": [
        "docereeTest.isnull().sum()"
      ],
      "metadata": {
        "colab": {
          "base_uri": "https://localhost:8080/"
        },
        "id": "7P7OklMCXMMv",
        "outputId": "cd3c3916-4e61-4fa1-a0b2-c41dbb0f3095"
      },
      "execution_count": 14,
      "outputs": [
        {
          "output_type": "execute_result",
          "data": {
            "text/plain": [
              "ID                 0\n",
              "DEVICETYPE         0\n",
              "PLATFORM_ID        0\n",
              "BIDREQUESTIP       0\n",
              "USERPLATFORMUID    0\n",
              "USERCITY           0\n",
              "USERZIPCODE        0\n",
              "USERAGENT          0\n",
              "PLATFORMTYPE       0\n",
              "URL                0\n",
              "KEYWORDS           0\n",
              "dtype: int64"
            ]
          },
          "metadata": {},
          "execution_count": 14
        }
      ]
    },
    {
      "cell_type": "code",
      "source": [
        "docereeTest.isnull().sum()"
      ],
      "metadata": {
        "colab": {
          "base_uri": "https://localhost:8080/"
        },
        "id": "myp_Szansu5K",
        "outputId": "334bf9b8-398a-453d-d72f-6e2d9fc39ef6"
      },
      "execution_count": 8,
      "outputs": [
        {
          "output_type": "execute_result",
          "data": {
            "text/plain": [
              "ID                    0\n",
              "DEVICETYPE           30\n",
              "PLATFORM_ID          50\n",
              "BIDREQUESTIP         50\n",
              "USERPLATFORMUID      50\n",
              "USERCITY           1644\n",
              "USERZIPCODE        1200\n",
              "USERAGENT            51\n",
              "PLATFORMTYPE         50\n",
              "CHANNELTYPE          50\n",
              "URL                  50\n",
              "KEYWORDS             70\n",
              "dtype: int64"
            ]
          },
          "metadata": {},
          "execution_count": 8
        }
      ]
    },
    {
      "cell_type": "code",
      "source": [
        "docereeTrain = docereeTrain.dropna(subset=['USERPLATFORMUID', 'USERAGENT', 'USERCITY', 'USERZIPCODE', 'IS_HCP'])\n",
        "docereeTest = docereeTest.dropna(subset=['DEVICETYPE', 'PLATFORM_ID', 'BIDREQUESTIP', 'USERPLATFORMUID', 'USERAGENT', 'PLATFORMTYPE', 'CHANNELTYPE', 'URL', 'KEYWORDS'])"
      ],
      "metadata": {
        "id": "3ohZtpyRdE_5"
      },
      "execution_count": 268,
      "outputs": []
    },
    {
      "cell_type": "code",
      "source": [
        "docereeTrain = docereeTrain.drop(columns=['CHANNELTYPE'])\n",
        "docereeTest = docereeTest.drop(columns=['CHANNELTYPE'])"
      ],
      "metadata": {
        "id": "12HjNrwZnrAP"
      },
      "execution_count": 269,
      "outputs": []
    },
    {
      "cell_type": "code",
      "source": [
        "print(len(docereeTrain))\n",
        "print(len(docereeTest))"
      ],
      "metadata": {
        "colab": {
          "base_uri": "https://localhost:8080/"
        },
        "id": "Gn6MCgsXc1DT",
        "outputId": "a3d36c14-556d-4b64-e3a8-ddd6e51ebf7c"
      },
      "execution_count": 15,
      "outputs": [
        {
          "output_type": "stream",
          "name": "stdout",
          "text": [
            "107566\n",
            "28509\n"
          ]
        }
      ]
    },
    {
      "cell_type": "code",
      "source": [
        "docereeTest[\"USERCITY\"] = docereeTest[\"USERCITY\"].fillna('Unkown')"
      ],
      "metadata": {
        "id": "s6lPC4bxgFf-"
      },
      "execution_count": 270,
      "outputs": []
    },
    {
      "cell_type": "code",
      "source": [
        "docereeTest['USERZIPCODE'] = docereeTest['USERZIPCODE'].fillna(docereeTest['USERZIPCODE'].mean())"
      ],
      "metadata": {
        "id": "LrYpo_e-f5dA"
      },
      "execution_count": 271,
      "outputs": []
    },
    {
      "cell_type": "code",
      "source": [
        "from sklearn.preprocessing import LabelEncoder\n",
        "le = LabelEncoder()\n",
        "\n",
        "train_cols = ['DEVICETYPE', 'BIDREQUESTIP', 'USERPLATFORMUID', 'USERCITY', 'USERAGENT', 'PLATFORMTYPE', 'URL', 'KEYWORDS', 'TAXONOMY']\n",
        "test_cols = ['DEVICETYPE', 'BIDREQUESTIP', 'USERCITY', 'USERPLATFORMUID','USERAGENT', 'PLATFORMTYPE', 'URL', 'KEYWORDS']\n",
        "\n",
        "\n",
        "\n",
        "def label_encoder(train_data, test_data):\n",
        "    for train_col in train_cols:\n",
        "        train_data[train_col] = le.fit_transform(train_data[train_col])\n",
        "\n",
        "    for test_col in test_cols:\n",
        "        test_data[test_col] = le.fit_transform(test_data[test_col])\n",
        "\n",
        "    return train_data, test_data\n",
        "\n",
        "docereeTrain, docereeTest = label_encoder(docereeTrain, docereeTest)"
      ],
      "metadata": {
        "id": "huO9wk_e_t2d"
      },
      "execution_count": 272,
      "outputs": []
    },
    {
      "cell_type": "code",
      "source": [
        "X = docereeTrain.drop('IS_HCP', axis = 1)\n",
        "y = docereeTrain['IS_HCP']"
      ],
      "metadata": {
        "id": "7jJGwb9d-EOR"
      },
      "execution_count": 311,
      "outputs": []
    },
    {
      "cell_type": "code",
      "source": [
        "from sklearn.model_selection import train_test_split\n",
        "\n",
        "X_train, X_test, y_train, y_test = train_test_split(X, y, test_size = 0.2)"
      ],
      "metadata": {
        "id": "Nz3wf4mm95ZV"
      },
      "execution_count": 312,
      "outputs": []
    },
    {
      "cell_type": "code",
      "source": [
        "from sklearn.preprocessing import StandardScaler\n",
        "sc = StandardScaler()\n",
        "X_train = sc.fit_transform(X_train)\n",
        "X_test = sc.fit_transform(X_test)"
      ],
      "metadata": {
        "id": "6QnOMhoW_Zbb"
      },
      "execution_count": 313,
      "outputs": []
    },
    {
      "cell_type": "markdown",
      "source": [
        "## Model Training"
      ],
      "metadata": {
        "id": "ulpXXurh9S6b"
      }
    },
    {
      "cell_type": "code",
      "source": [
        "import tensorflow as tf\n",
        "from tensorflow.keras.models import Sequential\n",
        "from tensorflow.keras.layers import Dense"
      ],
      "metadata": {
        "id": "B7HJ2bPv6OTU"
      },
      "execution_count": 314,
      "outputs": []
    },
    {
      "cell_type": "code",
      "source": [
        "ann = Sequential()"
      ],
      "metadata": {
        "id": "75EUXpbi9PRW"
      },
      "execution_count": 315,
      "outputs": []
    },
    {
      "cell_type": "code",
      "source": [
        "ann.add(Dense(units = 12, activation = 'relu'))"
      ],
      "metadata": {
        "id": "4-6elTsx9Rap"
      },
      "execution_count": 316,
      "outputs": []
    },
    {
      "cell_type": "code",
      "source": [
        "ann.add(Dense(units = 12, activation = 'relu'))"
      ],
      "metadata": {
        "id": "4gqu273R9gjR"
      },
      "execution_count": 317,
      "outputs": []
    },
    {
      "cell_type": "code",
      "source": [
        "ann.add(Dense(units = 1, activation = 'sigmoid'))"
      ],
      "metadata": {
        "id": "uuDkOtlu9iS3"
      },
      "execution_count": 318,
      "outputs": []
    },
    {
      "cell_type": "code",
      "source": [
        "ann.compile(optimizer = 'adam', loss = 'binary_crossentropy', metrics = ['accuracy'])"
      ],
      "metadata": {
        "id": "2a1Jsmtd9pGt"
      },
      "execution_count": 319,
      "outputs": []
    },
    {
      "cell_type": "code",
      "source": [
        "ann.fit(X_train, y_train, batch_size = 32, epochs = 100)"
      ],
      "metadata": {
        "colab": {
          "base_uri": "https://localhost:8080/"
        },
        "id": "PySAEnq89x-O",
        "outputId": "a60de315-9bc0-47b8-8a2c-b4233b2e4a13"
      },
      "execution_count": 355,
      "outputs": [
        {
          "output_type": "stream",
          "name": "stdout",
          "text": [
            "Epoch 1/100\n",
            "2690/2690 [==============================] - 4s 2ms/step - loss: 0.0161 - accuracy: 0.9966\n",
            "Epoch 2/100\n",
            "2690/2690 [==============================] - 5s 2ms/step - loss: 0.0163 - accuracy: 0.9966\n",
            "Epoch 3/100\n",
            "2690/2690 [==============================] - 4s 2ms/step - loss: 0.0163 - accuracy: 0.9965\n",
            "Epoch 4/100\n",
            "2690/2690 [==============================] - 5s 2ms/step - loss: 0.0163 - accuracy: 0.9965\n",
            "Epoch 5/100\n",
            "2690/2690 [==============================] - 5s 2ms/step - loss: 0.0162 - accuracy: 0.9966\n",
            "Epoch 6/100\n",
            "2690/2690 [==============================] - 4s 2ms/step - loss: 0.0160 - accuracy: 0.9967\n",
            "Epoch 7/100\n",
            "2690/2690 [==============================] - 4s 2ms/step - loss: 0.0161 - accuracy: 0.9966\n",
            "Epoch 8/100\n",
            "2690/2690 [==============================] - 5s 2ms/step - loss: 0.0163 - accuracy: 0.9966\n",
            "Epoch 9/100\n",
            "2690/2690 [==============================] - 4s 2ms/step - loss: 0.0161 - accuracy: 0.9966\n",
            "Epoch 10/100\n",
            "2690/2690 [==============================] - 5s 2ms/step - loss: 0.0159 - accuracy: 0.9966\n",
            "Epoch 11/100\n",
            "2690/2690 [==============================] - 5s 2ms/step - loss: 0.0162 - accuracy: 0.9967\n",
            "Epoch 12/100\n",
            "2690/2690 [==============================] - 4s 2ms/step - loss: 0.0160 - accuracy: 0.9966\n",
            "Epoch 13/100\n",
            "2690/2690 [==============================] - 5s 2ms/step - loss: 0.0160 - accuracy: 0.9966\n",
            "Epoch 14/100\n",
            "2690/2690 [==============================] - 4s 2ms/step - loss: 0.0160 - accuracy: 0.9966\n",
            "Epoch 15/100\n",
            "2690/2690 [==============================] - 4s 2ms/step - loss: 0.0159 - accuracy: 0.9967\n",
            "Epoch 16/100\n",
            "2690/2690 [==============================] - 5s 2ms/step - loss: 0.0159 - accuracy: 0.9966\n",
            "Epoch 17/100\n",
            "2690/2690 [==============================] - 4s 2ms/step - loss: 0.0159 - accuracy: 0.9967\n",
            "Epoch 18/100\n",
            "2690/2690 [==============================] - 4s 2ms/step - loss: 0.0156 - accuracy: 0.9966\n",
            "Epoch 19/100\n",
            "2690/2690 [==============================] - 5s 2ms/step - loss: 0.0158 - accuracy: 0.9967\n",
            "Epoch 20/100\n",
            "2690/2690 [==============================] - 4s 2ms/step - loss: 0.0157 - accuracy: 0.9968\n",
            "Epoch 21/100\n",
            "2690/2690 [==============================] - 5s 2ms/step - loss: 0.0156 - accuracy: 0.9965\n",
            "Epoch 22/100\n",
            "2690/2690 [==============================] - 5s 2ms/step - loss: 0.0158 - accuracy: 0.9966\n",
            "Epoch 23/100\n",
            "2690/2690 [==============================] - 4s 2ms/step - loss: 0.0156 - accuracy: 0.9967\n",
            "Epoch 24/100\n",
            "2690/2690 [==============================] - 5s 2ms/step - loss: 0.0157 - accuracy: 0.9967\n",
            "Epoch 25/100\n",
            "2690/2690 [==============================] - 5s 2ms/step - loss: 0.0159 - accuracy: 0.9967\n",
            "Epoch 26/100\n",
            "2690/2690 [==============================] - 4s 2ms/step - loss: 0.0157 - accuracy: 0.9968\n",
            "Epoch 27/100\n",
            "2690/2690 [==============================] - 5s 2ms/step - loss: 0.0156 - accuracy: 0.9966\n",
            "Epoch 28/100\n",
            "2690/2690 [==============================] - 4s 2ms/step - loss: 0.0157 - accuracy: 0.9966\n",
            "Epoch 29/100\n",
            "2690/2690 [==============================] - 5s 2ms/step - loss: 0.0157 - accuracy: 0.9966\n",
            "Epoch 30/100\n",
            "2690/2690 [==============================] - 5s 2ms/step - loss: 0.0155 - accuracy: 0.9968\n",
            "Epoch 31/100\n",
            "2690/2690 [==============================] - 4s 2ms/step - loss: 0.0156 - accuracy: 0.9966\n",
            "Epoch 32/100\n",
            "2690/2690 [==============================] - 5s 2ms/step - loss: 0.0157 - accuracy: 0.9966\n",
            "Epoch 33/100\n",
            "2690/2690 [==============================] - 5s 2ms/step - loss: 0.0156 - accuracy: 0.9967\n",
            "Epoch 34/100\n",
            "2690/2690 [==============================] - 4s 2ms/step - loss: 0.0155 - accuracy: 0.9967\n",
            "Epoch 35/100\n",
            "2690/2690 [==============================] - 5s 2ms/step - loss: 0.0156 - accuracy: 0.9968\n",
            "Epoch 36/100\n",
            "2690/2690 [==============================] - 4s 2ms/step - loss: 0.0155 - accuracy: 0.9967\n",
            "Epoch 37/100\n",
            "2690/2690 [==============================] - 5s 2ms/step - loss: 0.0155 - accuracy: 0.9967\n",
            "Epoch 38/100\n",
            "2690/2690 [==============================] - 5s 2ms/step - loss: 0.0153 - accuracy: 0.9968\n",
            "Epoch 39/100\n",
            "2690/2690 [==============================] - 4s 2ms/step - loss: 0.0154 - accuracy: 0.9967\n",
            "Epoch 40/100\n",
            "2690/2690 [==============================] - 5s 2ms/step - loss: 0.0154 - accuracy: 0.9967\n",
            "Epoch 41/100\n",
            "2690/2690 [==============================] - 4s 2ms/step - loss: 0.0155 - accuracy: 0.9967\n",
            "Epoch 42/100\n",
            "2690/2690 [==============================] - 4s 2ms/step - loss: 0.0152 - accuracy: 0.9968\n",
            "Epoch 43/100\n",
            "2690/2690 [==============================] - 5s 2ms/step - loss: 0.0155 - accuracy: 0.9968\n",
            "Epoch 44/100\n",
            "2690/2690 [==============================] - 4s 2ms/step - loss: 0.0152 - accuracy: 0.9968\n",
            "Epoch 45/100\n",
            "2690/2690 [==============================] - 4s 2ms/step - loss: 0.0155 - accuracy: 0.9967\n",
            "Epoch 46/100\n",
            "2690/2690 [==============================] - 5s 2ms/step - loss: 0.0154 - accuracy: 0.9967\n",
            "Epoch 47/100\n",
            "2690/2690 [==============================] - 4s 2ms/step - loss: 0.0154 - accuracy: 0.9967\n",
            "Epoch 48/100\n",
            "2690/2690 [==============================] - 5s 2ms/step - loss: 0.0154 - accuracy: 0.9968\n",
            "Epoch 49/100\n",
            "2690/2690 [==============================] - 5s 2ms/step - loss: 0.0154 - accuracy: 0.9968\n",
            "Epoch 50/100\n",
            "2690/2690 [==============================] - 4s 2ms/step - loss: 0.0152 - accuracy: 0.9967\n",
            "Epoch 51/100\n",
            "2690/2690 [==============================] - 5s 2ms/step - loss: 0.0155 - accuracy: 0.9968\n",
            "Epoch 52/100\n",
            "2690/2690 [==============================] - 4s 2ms/step - loss: 0.0154 - accuracy: 0.9968\n",
            "Epoch 53/100\n",
            "2690/2690 [==============================] - 4s 2ms/step - loss: 0.0153 - accuracy: 0.9968\n",
            "Epoch 54/100\n",
            "2690/2690 [==============================] - 5s 2ms/step - loss: 0.0154 - accuracy: 0.9967\n",
            "Epoch 55/100\n",
            "2690/2690 [==============================] - 4s 2ms/step - loss: 0.0152 - accuracy: 0.9968\n",
            "Epoch 56/100\n",
            "2690/2690 [==============================] - 4s 2ms/step - loss: 0.0152 - accuracy: 0.9968\n",
            "Epoch 57/100\n",
            "2690/2690 [==============================] - 6s 2ms/step - loss: 0.0153 - accuracy: 0.9968\n",
            "Epoch 58/100\n",
            "2690/2690 [==============================] - 4s 2ms/step - loss: 0.0152 - accuracy: 0.9968\n",
            "Epoch 59/100\n",
            "2690/2690 [==============================] - 5s 2ms/step - loss: 0.0151 - accuracy: 0.9968\n",
            "Epoch 60/100\n",
            "2690/2690 [==============================] - 5s 2ms/step - loss: 0.0150 - accuracy: 0.9968\n",
            "Epoch 61/100\n",
            "2690/2690 [==============================] - 4s 2ms/step - loss: 0.0153 - accuracy: 0.9969\n",
            "Epoch 62/100\n",
            "2690/2690 [==============================] - 5s 2ms/step - loss: 0.0153 - accuracy: 0.9968\n",
            "Epoch 63/100\n",
            "2690/2690 [==============================] - 4s 2ms/step - loss: 0.0152 - accuracy: 0.9968\n",
            "Epoch 64/100\n",
            "2690/2690 [==============================] - 4s 2ms/step - loss: 0.0152 - accuracy: 0.9969\n",
            "Epoch 65/100\n",
            "2690/2690 [==============================] - 5s 2ms/step - loss: 0.0150 - accuracy: 0.9968\n",
            "Epoch 66/100\n",
            "2690/2690 [==============================] - 4s 2ms/step - loss: 0.0153 - accuracy: 0.9967\n",
            "Epoch 67/100\n",
            "2690/2690 [==============================] - 5s 2ms/step - loss: 0.0150 - accuracy: 0.9969\n",
            "Epoch 68/100\n",
            "2690/2690 [==============================] - 5s 2ms/step - loss: 0.0154 - accuracy: 0.9968\n",
            "Epoch 69/100\n",
            "2690/2690 [==============================] - 4s 2ms/step - loss: 0.0151 - accuracy: 0.9968\n",
            "Epoch 70/100\n",
            "2690/2690 [==============================] - 5s 2ms/step - loss: 0.0151 - accuracy: 0.9968\n",
            "Epoch 71/100\n",
            "2690/2690 [==============================] - 4s 2ms/step - loss: 0.0150 - accuracy: 0.9967\n",
            "Epoch 72/100\n",
            "2690/2690 [==============================] - 4s 2ms/step - loss: 0.0150 - accuracy: 0.9968\n",
            "Epoch 73/100\n",
            "2690/2690 [==============================] - 5s 2ms/step - loss: 0.0151 - accuracy: 0.9967\n",
            "Epoch 74/100\n",
            "2690/2690 [==============================] - 4s 2ms/step - loss: 0.0151 - accuracy: 0.9967\n",
            "Epoch 75/100\n",
            "2690/2690 [==============================] - 4s 2ms/step - loss: 0.0150 - accuracy: 0.9968\n",
            "Epoch 76/100\n",
            "2690/2690 [==============================] - 5s 2ms/step - loss: 0.0150 - accuracy: 0.9969\n",
            "Epoch 77/100\n",
            "2690/2690 [==============================] - 4s 2ms/step - loss: 0.0151 - accuracy: 0.9969\n",
            "Epoch 78/100\n",
            "2690/2690 [==============================] - 5s 2ms/step - loss: 0.0152 - accuracy: 0.9967\n",
            "Epoch 79/100\n",
            "2690/2690 [==============================] - 5s 2ms/step - loss: 0.0151 - accuracy: 0.9967\n",
            "Epoch 80/100\n",
            "2690/2690 [==============================] - 4s 2ms/step - loss: 0.0151 - accuracy: 0.9968\n",
            "Epoch 81/100\n",
            "2690/2690 [==============================] - 5s 2ms/step - loss: 0.0150 - accuracy: 0.9969\n",
            "Epoch 82/100\n",
            "2690/2690 [==============================] - 4s 2ms/step - loss: 0.0149 - accuracy: 0.9967\n",
            "Epoch 83/100\n",
            "2690/2690 [==============================] - 4s 2ms/step - loss: 0.0151 - accuracy: 0.9969\n",
            "Epoch 84/100\n",
            "2690/2690 [==============================] - 5s 2ms/step - loss: 0.0148 - accuracy: 0.9968\n",
            "Epoch 85/100\n",
            "2690/2690 [==============================] - 4s 2ms/step - loss: 0.0149 - accuracy: 0.9968\n",
            "Epoch 86/100\n",
            "2690/2690 [==============================] - 5s 2ms/step - loss: 0.0151 - accuracy: 0.9968\n",
            "Epoch 87/100\n",
            "2690/2690 [==============================] - 5s 2ms/step - loss: 0.0150 - accuracy: 0.9968\n",
            "Epoch 88/100\n",
            "2690/2690 [==============================] - 4s 2ms/step - loss: 0.0149 - accuracy: 0.9968\n",
            "Epoch 89/100\n",
            "2690/2690 [==============================] - 5s 2ms/step - loss: 0.0150 - accuracy: 0.9968\n",
            "Epoch 90/100\n",
            "2690/2690 [==============================] - 6s 2ms/step - loss: 0.0152 - accuracy: 0.9968\n",
            "Epoch 91/100\n",
            "2690/2690 [==============================] - 4s 2ms/step - loss: 0.0149 - accuracy: 0.9968\n",
            "Epoch 92/100\n",
            "2690/2690 [==============================] - 5s 2ms/step - loss: 0.0149 - accuracy: 0.9969\n",
            "Epoch 93/100\n",
            "2690/2690 [==============================] - 4s 2ms/step - loss: 0.0149 - accuracy: 0.9969\n",
            "Epoch 94/100\n",
            "2690/2690 [==============================] - 4s 2ms/step - loss: 0.0150 - accuracy: 0.9968\n",
            "Epoch 95/100\n",
            "2690/2690 [==============================] - 5s 2ms/step - loss: 0.0149 - accuracy: 0.9967\n",
            "Epoch 96/100\n",
            "2690/2690 [==============================] - 4s 2ms/step - loss: 0.0149 - accuracy: 0.9969\n",
            "Epoch 97/100\n",
            "2690/2690 [==============================] - 4s 2ms/step - loss: 0.0148 - accuracy: 0.9969\n",
            "Epoch 98/100\n",
            "2690/2690 [==============================] - 5s 2ms/step - loss: 0.0149 - accuracy: 0.9969\n",
            "Epoch 99/100\n",
            "2690/2690 [==============================] - 4s 2ms/step - loss: 0.0150 - accuracy: 0.9969\n",
            "Epoch 100/100\n",
            "2690/2690 [==============================] - 5s 2ms/step - loss: 0.0148 - accuracy: 0.9968\n"
          ]
        },
        {
          "output_type": "execute_result",
          "data": {
            "text/plain": [
              "<keras.callbacks.History at 0x7fcab9833fd0>"
            ]
          },
          "metadata": {},
          "execution_count": 355
        }
      ]
    },
    {
      "cell_type": "markdown",
      "source": [
        "## Model Prediction"
      ],
      "metadata": {
        "id": "ioZT-mMZOE7r"
      }
    },
    {
      "cell_type": "code",
      "source": [
        "y_pred = ann.predict(X_test)\n",
        "y_pred"
      ],
      "metadata": {
        "colab": {
          "base_uri": "https://localhost:8080/"
        },
        "id": "BTRy0AnnW0-P",
        "outputId": "62cc4f6e-0527-47b2-8de9-3fd5bd9de043"
      },
      "execution_count": 356,
      "outputs": [
        {
          "output_type": "stream",
          "name": "stdout",
          "text": [
            "673/673 [==============================] - 1s 1ms/step\n"
          ]
        },
        {
          "output_type": "execute_result",
          "data": {
            "text/plain": [
              "array([[5.0348570e-03],\n",
              "       [9.2534196e-05],\n",
              "       [2.1138098e-03],\n",
              "       ...,\n",
              "       [8.5990730e-05],\n",
              "       [1.8863364e-05],\n",
              "       [2.5767572e-03]], dtype=float32)"
            ]
          },
          "metadata": {},
          "execution_count": 356
        }
      ]
    },
    {
      "cell_type": "code",
      "source": [
        "for i in range(len(y_pred)):\n",
        "    y_pred[i] = y_pred[i].astype(int)\n",
        "    print(y_pred[i])"
      ],
      "metadata": {
        "id": "NKeeGjfOXIIm"
      },
      "execution_count": null,
      "outputs": []
    },
    {
      "cell_type": "markdown",
      "source": [
        "## Accuracy Score"
      ],
      "metadata": {
        "id": "ECuk4G_9OAs9"
      }
    },
    {
      "cell_type": "code",
      "source": [
        "from sklearn.metrics import accuracy_score\n",
        "acc = accuracy_score(y_test, y_pred)\n",
        "acc"
      ],
      "metadata": {
        "colab": {
          "base_uri": "https://localhost:8080/"
        },
        "id": "dmhLxxB2DFFE",
        "outputId": "ece4c120-45d0-450f-92a7-acd4e6c97b8e"
      },
      "execution_count": 358,
      "outputs": [
        {
          "output_type": "execute_result",
          "data": {
            "text/plain": [
              "0.9884261411174119"
            ]
          },
          "metadata": {},
          "execution_count": 358
        }
      ]
    }
  ],
  "metadata": {
    "language_info": {
      "name": "python"
    },
    "orig_nbformat": 4,
    "colab": {
      "provenance": [],
      "gpuType": "T4",
      "include_colab_link": true
    },
    "kernelspec": {
      "name": "python3",
      "display_name": "Python 3"
    }
  },
  "nbformat": 4,
  "nbformat_minor": 0
}